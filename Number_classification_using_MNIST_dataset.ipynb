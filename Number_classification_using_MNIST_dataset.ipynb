{
  "nbformat": 4,
  "nbformat_minor": 0,
  "metadata": {
    "colab": {
      "name": "Number classification using MNIST dataset.ipynb",
      "provenance": [],
      "collapsed_sections": []
    },
    "kernelspec": {
      "name": "python3",
      "display_name": "Python 3"
    },
    "language_info": {
      "name": "python"
    }
  },
  "cells": [
    {
      "cell_type": "markdown",
      "metadata": {
        "id": "ovQa6xRKRrh6"
      },
      "source": [
        "Done by Aaptha BV"
      ]
    },
    {
      "cell_type": "code",
      "metadata": {
        "id": "k8mYohCkAVJH"
      },
      "source": [
        "from sklearn.linear_model import LogisticRegression\n",
        "from sklearn.model_selection import train_test_split\n",
        "import matplotlib.pyplot as plt\n",
        "import tensorflow as tf"
      ],
      "execution_count": 5,
      "outputs": []
    },
    {
      "cell_type": "markdown",
      "metadata": {
        "id": "rGBJZ8P9B-RM"
      },
      "source": [
        "The first brackets contains grayscale images for training set along with it's label.\n",
        "The second brackets contain testing set images along with its labels."
      ]
    },
    {
      "cell_type": "code",
      "metadata": {
        "id": "KHIHCqrvBIWt"
      },
      "source": [
        "(img_train, label_train), (img_test, label_test) = tf.keras.datasets.mnist.load_data()"
      ],
      "execution_count": 6,
      "outputs": []
    },
    {
      "cell_type": "markdown",
      "metadata": {
        "id": "3JMdj9n5Cwqk"
      },
      "source": [
        "Now let us see if the images are downloaded properly."
      ]
    },
    {
      "cell_type": "code",
      "metadata": {
        "colab": {
          "base_uri": "https://localhost:8080/",
          "height": 283
        },
        "id": "DnOUHQURCuSG",
        "outputId": "d1f29fae-b42c-45cd-96da-d6e785e409d5"
      },
      "source": [
        "plt.imshow(img_train[1])"
      ],
      "execution_count": 11,
      "outputs": [
        {
          "output_type": "execute_result",
          "data": {
            "text/plain": [
              "<matplotlib.image.AxesImage at 0x7f03c646f890>"
            ]
          },
          "metadata": {
            "tags": []
          },
          "execution_count": 11
        },
        {
          "output_type": "display_data",
          "data": {
            "image/png": "[encoded data removed]",
            "text/plain": [
              "<Figure size 432x288 with 1 Axes>"
            ]
          },
          "metadata": {
            "tags": [],
            "needs_background": "light"
          }
        }
      ]
    },
    {
      "cell_type": "markdown",
      "metadata": {
        "id": "Ze9N2jr4I31D"
      },
      "source": [
        "When you execute the above code snippet you can see the number displayed properly. Therefore the code is working so far. We can even use subplot command to plot the first 9 images in the training dataset. "
      ]
    },
    {
      "cell_type": "markdown",
      "metadata": {
        "id": "xJhN8H3EKSZ-"
      },
      "source": [
        "We can check the the dimensions of the dataset using shape command."
      ]
    },
    {
      "cell_type": "code",
      "metadata": {
        "colab": {
          "base_uri": "https://localhost:8080/"
        },
        "id": "e-PNiT9TKRP2",
        "outputId": "61b49c8e-3616-4cea-9fee-b7bfdca410b0"
      },
      "source": [
        "print(img_train.shape)\n",
        "print(img_test.shape)"
      ],
      "execution_count": 19,
      "outputs": [
        {
          "output_type": "stream",
          "text": [
            "(60000, 28, 28)\n",
            "(10000, 28, 28)\n"
          ],
          "name": "stdout"
        }
      ]
    },
    {
      "cell_type": "markdown",
      "metadata": {
        "id": "m-ku7Y7KKebG"
      },
      "source": [
        "It is in 3D. First value is the number of images and the next two values are the dimensions of each image. Since we can't work with 3D we need to reduce it down to 2D."
      ]
    },
    {
      "cell_type": "code",
      "metadata": {
        "colab": {
          "base_uri": "https://localhost:8080/"
        },
        "id": "p-Dc5y1gKzaN",
        "outputId": "c5acce7f-0cf8-497b-9257-243d30e49272"
      },
      "source": [
        "X_train = img_train.reshape((60000, 28*28))\n",
        "X_test = img_test.reshape((10000, 28*28))\n",
        "print(X_train.shape, X_test.shape)"
      ],
      "execution_count": 21,
      "outputs": [
        {
          "output_type": "stream",
          "text": [
            "(60000, 784) (10000, 784)\n"
          ],
          "name": "stdout"
        }
      ]
    },
    {
      "cell_type": "code",
      "metadata": {
        "id": "t7hdhig1L4_W"
      },
      "source": [
        "X_train = X_train/255\n",
        "X_test = X_test/255"
      ],
      "execution_count": 23,
      "outputs": []
    },
    {
      "cell_type": "markdown",
      "metadata": {
        "id": "M1UioFQiM7GW"
      },
      "source": [
        "Now let us create the logistic regression model. we are using l2 as penalty as it uses l2 regularization."
      ]
    },
    {
      "cell_type": "code",
      "metadata": {
        "colab": {
          "base_uri": "https://localhost:8080/"
        },
        "id": "dbeTxMEbM6q-",
        "outputId": "8cfe1c12-92f6-4e8a-b4f6-af150222e0a8"
      },
      "source": [
        "model = LogisticRegression(penalty='l2')\n",
        "model = model.fit(X_train,label_train)"
      ],
      "execution_count": 30,
      "outputs": [
        {
          "output_type": "stream",
          "text": [
            "/usr/local/lib/python3.7/dist-packages/sklearn/linear_model/_logistic.py:940: ConvergenceWarning: lbfgs failed to converge (status=1):\n",
            "STOP: TOTAL NO. of ITERATIONS REACHED LIMIT.\n",
            "\n",
            "Increase the number of iterations (max_iter) or scale the data as shown in:\n",
            "    https://scikit-learn.org/stable/modules/preprocessing.html\n",
            "Please also refer to the documentation for alternative solver options:\n",
            "    https://scikit-learn.org/stable/modules/linear_model.html#logistic-regression\n",
            "  extra_warning_msg=_LOGISTIC_SOLVER_CONVERGENCE_MSG)\n"
          ],
          "name": "stderr"
        }
      ]
    },
    {
      "cell_type": "code",
      "metadata": {
        "colab": {
          "base_uri": "https://localhost:8080/",
          "height": 283
        },
        "id": "pQMey9UuMWZ2",
        "outputId": "1c0ab60b-0904-4530-f720-5b4421517159"
      },
      "source": [
        "plt.imshow(img_test[5])\n",
        "print(model.predict([X_test[5]]))"
      ],
      "execution_count": 33,
      "outputs": [
        {
          "output_type": "stream",
          "text": [
            "[1]\n"
          ],
          "name": "stdout"
        },
        {
          "output_type": "display_data",
          "data": {
            "image/png": "[encoded data removed]",
            "text/plain": [
              "<Figure size 432x288 with 1 Axes>"
            ]
          },
          "metadata": {
            "tags": [],
            "needs_background": "light"
          }
        }
      ]
    },
    {
      "cell_type": "markdown",
      "metadata": {
        "id": "ukRmwqzgQEaY"
      },
      "source": [
        "You can change the numbers and check. \n",
        "Let us now check the accuracy of prediction."
      ]
    },
    {
      "cell_type": "code",
      "metadata": {
        "colab": {
          "base_uri": "https://localhost:8080/"
        },
        "id": "lqO5JeMaQOgW",
        "outputId": "e42abd00-781f-408d-9e7e-2ca3585255fc"
      },
      "source": [
        "print(model.score(X_test,label_test))"
      ],
      "execution_count": 35,
      "outputs": [
        {
          "output_type": "stream",
          "text": [
            "0.9258\n"
          ],
          "name": "stdout"
        }
      ]
    }
  ]
}